{
  "nbformat": 4,
  "nbformat_minor": 0,
  "metadata": {
    "colab": {
      "provenance": [],
      "authorship_tag": "ABX9TyNQfLFKkAmLr36b+0lTwZQe",
      "include_colab_link": true
    },
    "kernelspec": {
      "name": "python3",
      "display_name": "Python 3"
    },
    "language_info": {
      "name": "python"
    }
  },
  "cells": [
    {
      "cell_type": "markdown",
      "metadata": {
        "id": "view-in-github",
        "colab_type": "text"
      },
      "source": [
        "<a href=\"https://colab.research.google.com/github/SubhadraBhagat/Excel_Projects/blob/main/Untitled0.ipynb\" target=\"_parent\"><img src=\"https://colab.research.google.com/assets/colab-badge.svg\" alt=\"Open In Colab\"/></a>"
      ]
    },
    {
      "cell_type": "code",
      "execution_count": 2,
      "metadata": {
        "id": "VvWxto-8Z9uR"
      },
      "outputs": [],
      "source": [
        "import numpy as np\n",
        "import pandas as pd\n",
        "import matplotlib.pyplot as plt\n",
        "import seaborn as sns"
      ]
    },
    {
      "cell_type": "code",
      "source": [
        "from sklearn.datasets import fetch_california_housing\n",
        "from sklearn.linear_model import LinearRegression\n",
        "from sklearn.linear_model import SGDRegressor"
      ],
      "metadata": {
        "id": "bcukgM46TZmu"
      },
      "execution_count": 4,
      "outputs": []
    },
    {
      "cell_type": "code",
      "source": [
        "from sklearn.model_selection import ShuffleSplit"
      ],
      "metadata": {
        "id": "1XCWUgvHUHHS"
      },
      "execution_count": 5,
      "outputs": []
    },
    {
      "cell_type": "code",
      "source": [
        "from sklearn.pipeline import Pipeline\n",
        "from sklearn.preprocessing import StandardScaler"
      ],
      "metadata": {
        "id": "NeZtOAeRUNlY"
      },
      "execution_count": 7,
      "outputs": []
    },
    {
      "cell_type": "code",
      "source": [
        "from sklearn.metrics import explained_variance_score\n",
        "from sklearn.metrics import max_error\n",
        "from sklearn.metrics import mean_absolute_error\n",
        "from sklearn.metrics import mean_squared_error\n",
        "from sklearn.metrics import r2_score"
      ],
      "metadata": {
        "id": "wstmtvKSU4ND"
      },
      "execution_count": 25,
      "outputs": []
    },
    {
      "cell_type": "markdown",
      "source": [
        "Load dataset"
      ],
      "metadata": {
        "id": "HCAeFt_6WGt_"
      }
    },
    {
      "cell_type": "code",
      "source": [
        "features, label = fetch_california_housing(as_frame=True, return_X_y=True)"
      ],
      "metadata": {
        "id": "yMzGyEmWWKuE"
      },
      "execution_count": 10,
      "outputs": []
    },
    {
      "cell_type": "code",
      "source": [
        "print(\"shape of feature matrix: \", features.shape)\n",
        "print(\"shape of label vector: \", label.shape)"
      ],
      "metadata": {
        "colab": {
          "base_uri": "https://localhost:8080/"
        },
        "id": "q1PBa9ZqWbjB",
        "outputId": "cfc35cc3-e11b-49fb-bcbe-830d2c0479ab"
      },
      "execution_count": 12,
      "outputs": [
        {
          "output_type": "stream",
          "name": "stdout",
          "text": [
            "shape of feature matrix:  (20640, 8)\n",
            "shape of label vector:  (20640,)\n"
          ]
        }
      ]
    },
    {
      "cell_type": "markdown",
      "source": [
        "Train Test Split"
      ],
      "metadata": {
        "id": "P4wvkYeeW_2n"
      }
    },
    {
      "cell_type": "code",
      "source": [
        "from sklearn.model_selection import train_test_split\n",
        "X_train, X_test, y_train, y_test = train_test_split(features,label, test_size=0.2, shuffle=False, random_state=0)"
      ],
      "metadata": {
        "id": "UzN1ZeVWXDnM"
      },
      "execution_count": 14,
      "outputs": []
    },
    {
      "cell_type": "code",
      "source": [
        "print(\"training sample: \", X_train.shape[0])\n",
        "print(\"test sample: \", X_test.shape[0])"
      ],
      "metadata": {
        "colab": {
          "base_uri": "https://localhost:8080/"
        },
        "id": "va-dCEsyYIB8",
        "outputId": "7b27635e-398f-470f-85e6-95547a548b54"
      },
      "execution_count": 15,
      "outputs": [
        {
          "output_type": "stream",
          "name": "stdout",
          "text": [
            "training sample:  16512\n",
            "test sample:  4128\n"
          ]
        }
      ]
    },
    {
      "cell_type": "code",
      "source": [
        "lin_reg_pipeline = Pipeline([(\"feature_scaling\", StandardScaler()),\n",
        "                             (\"lin_reg\", LinearRegression())])\n",
        "                            "
      ],
      "metadata": {
        "id": "fAN7csRkZLeY"
      },
      "execution_count": 30,
      "outputs": []
    },
    {
      "cell_type": "code",
      "source": [
        "lin_reg_pipeline.fit(X_train, y_train)\n"
      ],
      "metadata": {
        "colab": {
          "base_uri": "https://localhost:8080/"
        },
        "id": "JjDFzalQZ2hH",
        "outputId": "6d2b49e9-8cf4-4bf5-81a7-61bf921351b0"
      },
      "execution_count": 19,
      "outputs": [
        {
          "output_type": "execute_result",
          "data": {
            "text/plain": [
              "Pipeline(steps=[('feature_scaling', StandardScaler()),\n",
              "                ('lin_reg', LinearRegression())])"
            ]
          },
          "metadata": {},
          "execution_count": 19
        }
      ]
    },
    {
      "cell_type": "code",
      "source": [
        "lin_reg_pipeline.fit(X_test, y_test)"
      ],
      "metadata": {
        "colab": {
          "base_uri": "https://localhost:8080/"
        },
        "id": "0u2PvTGAaJUK",
        "outputId": "751fdde7-ee10-4d21-a7dc-63d3ba098976"
      },
      "execution_count": 35,
      "outputs": [
        {
          "output_type": "execute_result",
          "data": {
            "text/plain": [
              "Pipeline(steps=[('feature_scaling', StandardScaler()),\n",
              "                ('lin_reg', LinearRegression())])"
            ]
          },
          "metadata": {},
          "execution_count": 35
        }
      ]
    },
    {
      "cell_type": "code",
      "source": [
        "print(\"intercept: \", lin_reg_pipeline[-1].intercept_)\n",
        "print(\"coeff vector: \", lin_reg_pipeline[-1].coef_)"
      ],
      "metadata": {
        "colab": {
          "base_uri": "https://localhost:8080/"
        },
        "id": "l07EiBg5ag7G",
        "outputId": "ba4446a5-f36a-4956-da48-9ae6a2b4fef0"
      },
      "execution_count": 36,
      "outputs": [
        {
          "output_type": "stream",
          "name": "stdout",
          "text": [
            "intercept:  2.2601095930232513\n",
            "coeff vector:  [ 0.73315895  0.09983651 -0.02565661  0.06115621 -0.02110269 -0.04495316\n",
            " -0.71495545 -0.65310763]\n"
          ]
        }
      ]
    },
    {
      "cell_type": "markdown",
      "source": [
        "Model Evaluation"
      ],
      "metadata": {
        "id": "d2uqJEJdbEC3"
      }
    },
    {
      "cell_type": "code",
      "source": [
        "train_score = lin_reg_pipeline.score(X_train, y_train)\n",
        "print(\"train score: \", train_score)\n",
        "\n",
        "test_score = lin_reg_pipeline.score(X_test, y_test)\n",
        "print(\"test score: \", test_score)"
      ],
      "metadata": {
        "colab": {
          "base_uri": "https://localhost:8080/"
        },
        "id": "mI5DKfVnbG1M",
        "outputId": "c5bf3d91-b10a-405c-c35f-1ae6e490dfce"
      },
      "execution_count": 37,
      "outputs": [
        {
          "output_type": "stream",
          "name": "stdout",
          "text": [
            "train score:  0.5172935912876814\n",
            "test score:  0.6839060431719137\n"
          ]
        }
      ]
    },
    {
      "cell_type": "code",
      "source": [
        "X_train_prediction = lin_reg_pipeline.predict(X_train)\n",
        "X_test_prediction = lin_reg_pipeline.predict(X_test)"
      ],
      "metadata": {
        "id": "qooHysvCb2TR"
      },
      "execution_count": 41,
      "outputs": []
    },
    {
      "cell_type": "code",
      "source": [
        "X_train_prediction.shape\n"
      ],
      "metadata": {
        "colab": {
          "base_uri": "https://localhost:8080/"
        },
        "id": "hsJJfAiijMQY",
        "outputId": "87660308-da14-4c42-8eb4-5f08a1d076f9"
      },
      "execution_count": 46,
      "outputs": [
        {
          "output_type": "execute_result",
          "data": {
            "text/plain": [
              "(16512,)"
            ]
          },
          "metadata": {},
          "execution_count": 46
        }
      ]
    },
    {
      "cell_type": "code",
      "source": [
        "y_train.shape\n"
      ],
      "metadata": {
        "colab": {
          "base_uri": "https://localhost:8080/"
        },
        "id": "kH2Ppav9jg8X",
        "outputId": "a1fe9ec2-0a61-4afd-bc01-4108efab67ff"
      },
      "execution_count": 47,
      "outputs": [
        {
          "output_type": "execute_result",
          "data": {
            "text/plain": [
              "(16512,)"
            ]
          },
          "metadata": {},
          "execution_count": 47
        }
      ]
    },
    {
      "cell_type": "code",
      "source": [
        "y_train"
      ],
      "metadata": {
        "colab": {
          "base_uri": "https://localhost:8080/"
        },
        "id": "S3IBXA2nnQ6G",
        "outputId": "84f7d1d5-a53e-4833-8e6a-a67f4c8f3a7d"
      },
      "execution_count": 67,
      "outputs": [
        {
          "output_type": "execute_result",
          "data": {
            "text/plain": [
              "0        4.526\n",
              "1        3.585\n",
              "2        3.521\n",
              "3        3.413\n",
              "4        3.422\n",
              "         ...  \n",
              "16507    1.827\n",
              "16508    1.490\n",
              "16509    1.921\n",
              "16510    1.390\n",
              "16511    1.824\n",
              "Name: MedHouseVal, Length: 16512, dtype: float64"
            ]
          },
          "metadata": {},
          "execution_count": 67
        }
      ]
    },
    {
      "cell_type": "code",
      "source": [
        "X_test_prediction.shape"
      ],
      "metadata": {
        "colab": {
          "base_uri": "https://localhost:8080/"
        },
        "id": "Yac1lsPMjmIo",
        "outputId": "a612ee06-fe50-40e2-b132-a39530aef3c3"
      },
      "execution_count": 48,
      "outputs": [
        {
          "output_type": "execute_result",
          "data": {
            "text/plain": [
              "(4128,)"
            ]
          },
          "metadata": {},
          "execution_count": 48
        }
      ]
    },
    {
      "cell_type": "code",
      "source": [
        "y_test.shape"
      ],
      "metadata": {
        "colab": {
          "base_uri": "https://localhost:8080/"
        },
        "id": "-xyu3BxTjn49",
        "outputId": "6de1c1e3-4ed3-4102-e12f-eae60ffa3a18"
      },
      "execution_count": 49,
      "outputs": [
        {
          "output_type": "execute_result",
          "data": {
            "text/plain": [
              "(4128,)"
            ]
          },
          "metadata": {},
          "execution_count": 49
        }
      ]
    },
    {
      "cell_type": "code",
      "source": [
        "y_test"
      ],
      "metadata": {
        "colab": {
          "base_uri": "https://localhost:8080/"
        },
        "id": "RWEGNhPrlgnD",
        "outputId": "fbf279d6-4f8a-4767-a2ee-cf8578706e16"
      },
      "execution_count": 65,
      "outputs": [
        {
          "output_type": "execute_result",
          "data": {
            "text/plain": [
              "16512    1.656\n",
              "16513    1.261\n",
              "16514    0.944\n",
              "16515    0.919\n",
              "16516    1.243\n",
              "         ...  \n",
              "20635    0.781\n",
              "20636    0.771\n",
              "20637    0.923\n",
              "20638    0.847\n",
              "20639    0.894\n",
              "Name: MedHouseVal, Length: 4128, dtype: float64"
            ]
          },
          "metadata": {},
          "execution_count": 65
        }
      ]
    },
    {
      "cell_type": "code",
      "source": [
        "X_test_prediction.reshape(len(X_test_prediction),1)"
      ],
      "metadata": {
        "colab": {
          "base_uri": "https://localhost:8080/"
        },
        "id": "h-pdyZSNkcPp",
        "outputId": "993c91fd-c33e-4f9f-cc9a-9776180a7c6c"
      },
      "execution_count": 63,
      "outputs": [
        {
          "output_type": "execute_result",
          "data": {
            "text/plain": [
              "array([[1.44570963],\n",
              "       [1.61512352],\n",
              "       [1.17314711],\n",
              "       ...,\n",
              "       [0.21823074],\n",
              "       [0.3593208 ],\n",
              "       [0.50219272]])"
            ]
          },
          "metadata": {},
          "execution_count": 63
        }
      ]
    },
    {
      "cell_type": "code",
      "source": [
        "X_test_prediction"
      ],
      "metadata": {
        "colab": {
          "base_uri": "https://localhost:8080/"
        },
        "id": "liqV74uinIe5",
        "outputId": "6902a937-b3ad-42af-d872-e5e631320bbd"
      },
      "execution_count": 66,
      "outputs": [
        {
          "output_type": "execute_result",
          "data": {
            "text/plain": [
              "array([1.44570963, 1.61512352, 1.17314711, ..., 0.21823074, 0.3593208 ,\n",
              "       0.50219272])"
            ]
          },
          "metadata": {},
          "execution_count": 66
        }
      ]
    },
    {
      "cell_type": "code",
      "source": [
        "from sklearn.model_selection import cross_val_predict\n",
        "cv_predictions = cross_val_predict(lin_reg_pipeline, X_test, y_test)"
      ],
      "metadata": {
        "id": "s-ENNSCjpHIj"
      },
      "execution_count": 68,
      "outputs": []
    },
    {
      "cell_type": "code",
      "source": [
        "mse = mean_squared_error(y_test, cv_predictions)\n",
        "print(\"mean squared error: \", mse)"
      ],
      "metadata": {
        "colab": {
          "base_uri": "https://localhost:8080/"
        },
        "id": "Pn7U99nppoKi",
        "outputId": "0e206267-284c-4fcc-91b8-9ce375a831ce"
      },
      "execution_count": 71,
      "outputs": [
        {
          "output_type": "stream",
          "name": "stdout",
          "text": [
            "mean squared error:  0.51327255809169\n"
          ]
        }
      ]
    },
    {
      "cell_type": "code",
      "source": [
        "r2 = r2_score(y_test, cv_predictions)\n",
        "print(r2)"
      ],
      "metadata": {
        "colab": {
          "base_uri": "https://localhost:8080/"
        },
        "id": "bOhLaIRBrCT2",
        "outputId": "5a3e7959-ccaa-4a9a-9bae-11e85034d1bd"
      },
      "execution_count": 72,
      "outputs": [
        {
          "output_type": "stream",
          "name": "stdout",
          "text": [
            "0.6477579162708986\n"
          ]
        }
      ]
    },
    {
      "cell_type": "code",
      "source": [
        "evs = explained_variance_score(y_test, cv_predictions)\n",
        "print(evs)"
      ],
      "metadata": {
        "colab": {
          "base_uri": "https://localhost:8080/"
        },
        "id": "GN9udUM1rhzr",
        "outputId": "905ba80f-990e-43c0-d5d4-85c17e0e7d5a"
      },
      "execution_count": 74,
      "outputs": [
        {
          "output_type": "stream",
          "name": "stdout",
          "text": [
            "0.6477582069445367\n"
          ]
        }
      ]
    },
    {
      "cell_type": "code",
      "source": [
        "me = max_error(y_test, cv_predictions)\n",
        "print(me)"
      ],
      "metadata": {
        "colab": {
          "base_uri": "https://localhost:8080/"
        },
        "id": "AWtQLweJryNH",
        "outputId": "d386f6ed-c290-4f95-ad22-d969cfed7608"
      },
      "execution_count": 75,
      "outputs": [
        {
          "output_type": "stream",
          "name": "stdout",
          "text": [
            "5.293008330430738\n"
          ]
        }
      ]
    },
    {
      "cell_type": "code",
      "source": [
        "mae = mean_absolute_error(y_test, cv_predictions)\n",
        "print(mae)"
      ],
      "metadata": {
        "colab": {
          "base_uri": "https://localhost:8080/"
        },
        "id": "OqbBKxV9r8vP",
        "outputId": "3c6d70ff-f916-4637-c4de-5b21029f649e"
      },
      "execution_count": 76,
      "outputs": [
        {
          "output_type": "stream",
          "name": "stdout",
          "text": [
            "0.5369424507323531\n"
          ]
        }
      ]
    },
    {
      "cell_type": "code",
      "source": [
        "y_pred = lin_reg_pipeline.predict(X_test)"
      ],
      "metadata": {
        "id": "11nq5IzasTeP"
      },
      "execution_count": 77,
      "outputs": []
    },
    {
      "cell_type": "code",
      "source": [
        "print(y_pred)"
      ],
      "metadata": {
        "colab": {
          "base_uri": "https://localhost:8080/"
        },
        "id": "wnuhOvROsdbh",
        "outputId": "4cc0adb2-8613-4075-a11b-b18999c9219b"
      },
      "execution_count": 78,
      "outputs": [
        {
          "output_type": "stream",
          "name": "stdout",
          "text": [
            "[1.44570963 1.61512352 1.17314711 ... 0.21823074 0.3593208  0.50219272]\n"
          ]
        }
      ]
    },
    {
      "cell_type": "code",
      "source": [
        "y_pred.reshape(len(y_pred),1)"
      ],
      "metadata": {
        "colab": {
          "base_uri": "https://localhost:8080/"
        },
        "id": "o4X770t4sjEX",
        "outputId": "151afc6d-9649-4404-ca9f-9c9de233203f"
      },
      "execution_count": 79,
      "outputs": [
        {
          "output_type": "execute_result",
          "data": {
            "text/plain": [
              "array([[1.44570963],\n",
              "       [1.61512352],\n",
              "       [1.17314711],\n",
              "       ...,\n",
              "       [0.21823074],\n",
              "       [0.3593208 ],\n",
              "       [0.50219272]])"
            ]
          },
          "metadata": {},
          "execution_count": 79
        }
      ]
    },
    {
      "cell_type": "code",
      "source": [
        "y_test"
      ],
      "metadata": {
        "colab": {
          "base_uri": "https://localhost:8080/"
        },
        "id": "ASvkV2_zsx_m",
        "outputId": "8fd4ac91-3ec0-49b5-a573-7d29175f8f1f"
      },
      "execution_count": 80,
      "outputs": [
        {
          "output_type": "execute_result",
          "data": {
            "text/plain": [
              "16512    1.656\n",
              "16513    1.261\n",
              "16514    0.944\n",
              "16515    0.919\n",
              "16516    1.243\n",
              "         ...  \n",
              "20635    0.781\n",
              "20636    0.771\n",
              "20637    0.923\n",
              "20638    0.847\n",
              "20639    0.894\n",
              "Name: MedHouseVal, Length: 4128, dtype: float64"
            ]
          },
          "metadata": {},
          "execution_count": 80
        }
      ]
    },
    {
      "cell_type": "code",
      "source": [
        "print(y_test)"
      ],
      "metadata": {
        "colab": {
          "base_uri": "https://localhost:8080/"
        },
        "id": "5SWdNAk2s0po",
        "outputId": "07ff6659-1721-4801-94a0-443a34e473db"
      },
      "execution_count": 81,
      "outputs": [
        {
          "output_type": "stream",
          "name": "stdout",
          "text": [
            "16512    1.656\n",
            "16513    1.261\n",
            "16514    0.944\n",
            "16515    0.919\n",
            "16516    1.243\n",
            "         ...  \n",
            "20635    0.781\n",
            "20636    0.771\n",
            "20637    0.923\n",
            "20638    0.847\n",
            "20639    0.894\n",
            "Name: MedHouseVal, Length: 4128, dtype: float64\n"
          ]
        }
      ]
    },
    {
      "cell_type": "code",
      "source": [
        "mse = mean_squared_error(y_pred, y_test)"
      ],
      "metadata": {
        "id": "fVEBvM-Us9gy"
      },
      "execution_count": 82,
      "outputs": []
    },
    {
      "cell_type": "code",
      "source": [
        "print(mse)"
      ],
      "metadata": {
        "colab": {
          "base_uri": "https://localhost:8080/"
        },
        "id": "U6g7mJ4ktHNH",
        "outputId": "97ab5d7a-971a-409f-ef02-b89bfcc8c134"
      },
      "execution_count": 83,
      "outputs": [
        {
          "output_type": "stream",
          "name": "stdout",
          "text": [
            "0.4605990065152229\n"
          ]
        }
      ]
    }
  ]
}